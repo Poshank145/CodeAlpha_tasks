{
  "nbformat": 4,
  "nbformat_minor": 0,
  "metadata": {
    "colab": {
      "provenance": []
    },
    "kernelspec": {
      "name": "python3",
      "display_name": "Python 3"
    },
    "language_info": {
      "name": "python"
    }
  },
  "cells": [
    {
      "cell_type": "code",
      "source": [],
      "metadata": {
        "id": "83F9BxH1kxbC"
      },
      "execution_count": null,
      "outputs": []
    },
    {
      "cell_type": "markdown",
      "source": [
        "# **TASK:1  Web Scraping**"
      ],
      "metadata": {
        "id": "44PCu5PIRJKX"
      }
    },
    {
      "cell_type": "markdown",
      "source": [
        "**Using  dataset of weather forecast**"
      ],
      "metadata": {
        "id": "6bUy_zH4ReEy"
      }
    },
    {
      "cell_type": "code",
      "source": [
        "!pip install requests"
      ],
      "metadata": {
        "colab": {
          "base_uri": "https://localhost:8080/"
        },
        "id": "aOlVQ6B_kxea",
        "outputId": "67d11ea1-5c3e-4087-dc31-b9dd8c2cb195"
      },
      "execution_count": null,
      "outputs": [
        {
          "output_type": "stream",
          "name": "stdout",
          "text": [
            "Requirement already satisfied: requests in /usr/local/lib/python3.11/dist-packages (2.32.3)\n",
            "Requirement already satisfied: charset-normalizer<4,>=2 in /usr/local/lib/python3.11/dist-packages (from requests) (3.4.2)\n",
            "Requirement already satisfied: idna<4,>=2.5 in /usr/local/lib/python3.11/dist-packages (from requests) (3.10)\n",
            "Requirement already satisfied: urllib3<3,>=1.21.1 in /usr/local/lib/python3.11/dist-packages (from requests) (2.4.0)\n",
            "Requirement already satisfied: certifi>=2017.4.17 in /usr/local/lib/python3.11/dist-packages (from requests) (2025.7.9)\n"
          ]
        }
      ]
    },
    {
      "cell_type": "code",
      "source": [
        "!pip install beautifulsoup4\n",
        "\n",
        "\n"
      ],
      "metadata": {
        "colab": {
          "base_uri": "https://localhost:8080/"
        },
        "id": "n71SLa9Jk7VP",
        "outputId": "f03200dd-f22c-4705-c14b-9817661b17ad"
      },
      "execution_count": null,
      "outputs": [
        {
          "output_type": "stream",
          "name": "stdout",
          "text": [
            "Requirement already satisfied: beautifulsoup4 in /usr/local/lib/python3.11/dist-packages (4.13.4)\n",
            "Requirement already satisfied: soupsieve>1.2 in /usr/local/lib/python3.11/dist-packages (from beautifulsoup4) (2.7)\n",
            "Requirement already satisfied: typing-extensions>=4.0.0 in /usr/local/lib/python3.11/dist-packages (from beautifulsoup4) (4.14.1)\n"
          ]
        }
      ]
    },
    {
      "cell_type": "code",
      "source": [
        "# Importing libraries\n",
        "import requests\n",
        "from bs4 import BeautifulSoup\n"
      ],
      "metadata": {
        "id": "YX4ZAn5rlQZW"
      },
      "execution_count": null,
      "outputs": []
    },
    {
      "cell_type": "code",
      "source": [
        "# Loading website\n",
        "url = \"http://quotes.toscrape.com\"\n",
        "response = requests.get(url)\n",
        "print(response.status_code)  # 200 means success!\n"
      ],
      "metadata": {
        "colab": {
          "base_uri": "https://localhost:8080/"
        },
        "id": "npWxFWAGlogx",
        "outputId": "e23c9f28-0fc4-43ad-ef81-8821f6d64755"
      },
      "execution_count": null,
      "outputs": [
        {
          "output_type": "stream",
          "name": "stdout",
          "text": [
            "200\n"
          ]
        }
      ]
    },
    {
      "cell_type": "code",
      "source": [
        "#  Parseing HTML\n",
        "soup = BeautifulSoup(response.text, 'html.parser')\n",
        "\n"
      ],
      "metadata": {
        "id": "n1EMWT58lyYU"
      },
      "execution_count": null,
      "outputs": []
    },
    {
      "cell_type": "code",
      "source": [
        "#  Set city and build URL\n",
        "city = \"mumbai\"  # Change to any city: Mumbai, London, New-York\n",
        "city = city.replace(\" \", \"-\")  # In case city has space like \"New York\"\n",
        "url = f\"https://www.weather-forecast.com/locations/{city}/forecasts/latest\"\n",
        "headers = {\n",
        "    \"User-Agent\": \"Mozilla/5.0\"\n",
        "}\n",
        "\n",
        "\n",
        "\n",
        "# Make request and parse HTML\n",
        "response = requests.get(url, headers=headers)\n",
        "\n",
        "if response.status_code != 200:\n",
        "    print(\"Failed to retrieve data. Check city name or website structure.\")\n",
        "else:\n",
        "    soup = BeautifulSoup(response.text, 'html.parser')\n",
        "\n",
        "    try:\n",
        "        #  Extract weather forecast summary\n",
        "        summary = soup.find('span', class_='phrase').text\n",
        "\n",
        "        #  Extract city name to confirm\n",
        "        page_title = soup.find('title').text.split(\" Weather\")[0]\n",
        "\n",
        "        print(f\"📍 City: {page_title}\")\n",
        "        print(f\"🌤️ Forecast Summary: {summary}\")\n",
        "\n",
        "    except AttributeError:\n",
        "        print(\"Could not extract weather data. The site layout may have changed.\")\n"
      ],
      "metadata": {
        "colab": {
          "base_uri": "https://localhost:8080/"
        },
        "id": "4wzNdjc3qpGk",
        "outputId": "ba5e4dfe-42b1-42df-cc82-2fb4e7d711aa"
      },
      "execution_count": null,
      "outputs": [
        {
          "output_type": "stream",
          "name": "stdout",
          "text": [
            "📍 City: Mumbai\n",
            "🌤️ Forecast Summary: Heavy rain (total 34mm), heaviest during Tue morning. Warm (max 28°C on Wed afternoon, min 27°C on Mon night). Wind will be generally light.\n"
          ]
        }
      ]
    }
  ]
}